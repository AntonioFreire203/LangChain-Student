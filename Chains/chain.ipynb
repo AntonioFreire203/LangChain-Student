{
 "cells": [
  {
   "cell_type": "markdown",
   "metadata": {},
   "source": [
    "**Cadeias com Múltiplas Entradas (LLMChain)**\n",
    "**Objeto:**\n",
    "\n",
    "**LLMChain** é uma cadeia básica que combina um modelo de linguagem **(LLM)** com um **prompt específico**. Ela é usada para estruturar interações onde o modelo responde com base em entradas fornecidas.\n",
    "\n",
    "**Funcionamento:**\n",
    "\n",
    "Ao criar um **LLMChain**, você define um **PromptTemplate** que especifica como a entrada deve ser formatada. Esse template pode incluir variáveis que serão substituídas por valores reais durante a execução.\n",
    "\n",
    "**Detalhes:**\n",
    "\n",
    "**PromptTemplate:** Permite criar prompts dinâmicos com variáveis substituíveis.​\n",
    "\n",
    "**input_variables:** Lista de variáveis que o template espera receber.​\n",
    "\n",
    "**template:** String que define o formato do prompt, com placeholders para as variáveis"
   ]
  },
  {
   "cell_type": "code",
   "execution_count": null,
   "metadata": {
    "vscode": {
     "languageId": "plaintext"
    }
   },
   "outputs": [],
   "source": [
    "from langchain.prompts import PromptTemplate\n",
    "from langchain_openai import ChatOpenAI\n",
    "from langchain.chains import LLMChain\n",
    "\n",
    "# Inicializa o modelo de linguagem\n",
    "llm = ChatOpenAI(model=\"gpt-4o-mini\")\n",
    "\n",
    "# Define o template do prompt com variáveis dinâmicas\n",
    "prompt_template = PromptTemplate(\n",
    "    input_variables=[\"assunto\", \"idioma\"],\n",
    "    template=\"Conte uma piada sobre {assunto} em {idioma}.\"\n",
    ")\n",
    "\n",
    "# Cria a cadeia LLMChain\n",
    "chain = LLMChain(llm=llm, prompt=prompt_template)\n",
    "\n",
    "# Executa a cadeia com valores específicos para as variáveis\n",
    "resultado = chain.invoke({\"assunto\": \"papagaio\", \"idioma\": \"português\"})\n",
    "print(resultado)\n"
   ]
  },
  {
   "cell_type": "markdown",
   "metadata": {},
   "source": [
    "Cadeias Sequenciais (SequentialChain)\n",
    "**Objeto**:\n",
    "\n",
    "SequentialChain permite encadear múltiplas cadeias (Chain) de forma que a saída de uma seja a entrada da próxima. Isso é útil para criar fluxos de processamento onde cada etapa depende do resultado anterior.​\n",
    " **Funcionamento**:\n",
    "\n",
    "Você define várias cadeias individuais e as combina em uma SequentialChain. Cada cadeia pode ter seu próprio PromptTemplate e lógica específica"
   ]
  },
  {
   "cell_type": "markdown",
   "metadata": {},
   "source": []
  }
 ],
 "metadata": {
  "language_info": {
   "name": "python"
  }
 },
 "nbformat": 4,
 "nbformat_minor": 2
}
